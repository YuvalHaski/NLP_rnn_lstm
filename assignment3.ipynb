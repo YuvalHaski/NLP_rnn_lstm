{
 "cells": [
  {
   "cell_type": "code",
   "execution_count": null,
   "metadata": {},
   "outputs": [],
   "source": [
    "!pip install spacy\n",
    "!pip install pandas\n",
    "!pip install -U pip setuptools wheel\n",
    "!python -m spacy download en_core_web_sm\n",
    "!pip install openpyxl\n",
    "!pip install scikit-learn\n",
    "!pip install gensim"
   ]
  },
  {
   "cell_type": "code",
   "execution_count": null,
   "metadata": {},
   "outputs": [],
   "source": []
  }
 ],
 "metadata": {
  "language_info": {
   "name": "python"
  }
 },
 "nbformat": 4,
 "nbformat_minor": 2
}
