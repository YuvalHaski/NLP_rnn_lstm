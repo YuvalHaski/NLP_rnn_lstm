{
 "cells": [
  {
   "cell_type": "code",
   "execution_count": 1,
   "metadata": {},
   "outputs": [
    {
     "name": "stdout",
     "output_type": "stream",
     "text": [
      "Collecting en-core-web-sm==3.7.1\n",
      "  Downloading https://github.com/explosion/spacy-models/releases/download/en_core_web_sm-3.7.1/en_core_web_sm-3.7.1-py3-none-any.whl (12.8 MB)\n",
      "     ---------------------------------------- 0.0/12.8 MB ? eta -:--:--\n",
      "     --------------------------------------- 0.0/12.8 MB 330.3 kB/s eta 0:00:39\n",
      "     --------------------------------------- 0.0/12.8 MB 330.3 kB/s eta 0:00:39\n",
      "     --------------------------------------- 0.1/12.8 MB 327.7 kB/s eta 0:00:39\n",
      "     --------------------------------------- 0.1/12.8 MB 357.2 kB/s eta 0:00:36\n",
      "     --------------------------------------- 0.1/12.8 MB 554.9 kB/s eta 0:00:23\n",
      "      -------------------------------------- 0.2/12.8 MB 734.2 kB/s eta 0:00:18\n",
      "      -------------------------------------- 0.3/12.8 MB 886.2 kB/s eta 0:00:15\n",
      "     - -------------------------------------- 0.4/12.8 MB 1.2 MB/s eta 0:00:11\n",
      "     - -------------------------------------- 0.6/12.8 MB 1.3 MB/s eta 0:00:10\n",
      "     -- ------------------------------------- 0.7/12.8 MB 1.4 MB/s eta 0:00:09\n",
      "     -- ------------------------------------- 0.8/12.8 MB 1.6 MB/s eta 0:00:08\n",
      "     -- ------------------------------------- 0.9/12.8 MB 1.7 MB/s eta 0:00:08\n",
      "     --- ------------------------------------ 1.1/12.8 MB 1.8 MB/s eta 0:00:07\n",
      "     --- ------------------------------------ 1.2/12.8 MB 1.9 MB/s eta 0:00:07\n",
      "     ---- ----------------------------------- 1.3/12.8 MB 1.9 MB/s eta 0:00:06\n",
      "     ---- ----------------------------------- 1.5/12.8 MB 2.0 MB/s eta 0:00:06\n",
      "     ----- ---------------------------------- 1.6/12.8 MB 2.1 MB/s eta 0:00:06\n",
      "     ----- ---------------------------------- 1.7/12.8 MB 2.1 MB/s eta 0:00:06\n",
      "     ----- ---------------------------------- 1.9/12.8 MB 2.2 MB/s eta 0:00:06\n",
      "     ------ --------------------------------- 2.0/12.8 MB 2.2 MB/s eta 0:00:05\n",
      "     ------ --------------------------------- 2.2/12.8 MB 2.2 MB/s eta 0:00:05\n",
      "     ------- -------------------------------- 2.3/12.8 MB 2.3 MB/s eta 0:00:05\n",
      "     ------- -------------------------------- 2.4/12.8 MB 2.3 MB/s eta 0:00:05\n",
      "     -------- ------------------------------- 2.6/12.8 MB 2.3 MB/s eta 0:00:05\n",
      "     -------- ------------------------------- 2.7/12.8 MB 2.4 MB/s eta 0:00:05\n",
      "     -------- ------------------------------- 2.9/12.8 MB 2.4 MB/s eta 0:00:05\n",
      "     --------- ------------------------------ 3.0/12.8 MB 2.4 MB/s eta 0:00:05\n",
      "     --------- ------------------------------ 3.0/12.8 MB 2.4 MB/s eta 0:00:05\n",
      "     --------- ------------------------------ 3.0/12.8 MB 2.4 MB/s eta 0:00:05\n",
      "     --------- ------------------------------ 3.0/12.8 MB 2.4 MB/s eta 0:00:05\n",
      "     --------- ------------------------------ 3.0/12.8 MB 2.4 MB/s eta 0:00:05\n",
      "     --------- ------------------------------ 3.0/12.8 MB 2.4 MB/s eta 0:00:05\n",
      "     --------- ------------------------------ 3.0/12.8 MB 2.4 MB/s eta 0:00:05\n",
      "     --------- ------------------------------ 3.0/12.8 MB 2.4 MB/s eta 0:00:05\n",
      "     ----------- ---------------------------- 3.7/12.8 MB 2.3 MB/s eta 0:00:05\n",
      "     ----------- ---------------------------- 3.7/12.8 MB 2.3 MB/s eta 0:00:05\n",
      "     ----------- ---------------------------- 3.7/12.8 MB 2.3 MB/s eta 0:00:05\n",
      "     ------------- -------------------------- 4.2/12.8 MB 2.4 MB/s eta 0:00:04\n",
      "     ------------- -------------------------- 4.4/12.8 MB 2.4 MB/s eta 0:00:04\n",
      "     -------------- ------------------------- 4.5/12.8 MB 2.4 MB/s eta 0:00:04\n",
      "     -------------- ------------------------- 4.6/12.8 MB 2.4 MB/s eta 0:00:04\n",
      "     -------------- ------------------------- 4.8/12.8 MB 2.5 MB/s eta 0:00:04\n",
      "     --------------- ------------------------ 4.9/12.8 MB 2.5 MB/s eta 0:00:04\n",
      "     --------------- ------------------------ 5.1/12.8 MB 2.5 MB/s eta 0:00:04\n",
      "     ---------------- ----------------------- 5.2/12.8 MB 2.5 MB/s eta 0:00:04\n",
      "     ---------------- ----------------------- 5.3/12.8 MB 2.5 MB/s eta 0:00:03\n",
      "     ----------------- ---------------------- 5.5/12.8 MB 2.5 MB/s eta 0:00:03\n",
      "     ----------------- ---------------------- 5.6/12.8 MB 2.5 MB/s eta 0:00:03\n",
      "     ----------------- ---------------------- 5.7/12.8 MB 2.5 MB/s eta 0:00:03\n",
      "     ------------------ --------------------- 5.8/12.8 MB 2.5 MB/s eta 0:00:03\n",
      "     ------------------ --------------------- 6.0/12.8 MB 2.5 MB/s eta 0:00:03\n",
      "     ------------------- -------------------- 6.1/12.8 MB 2.5 MB/s eta 0:00:03\n",
      "     ------------------- -------------------- 6.3/12.8 MB 2.6 MB/s eta 0:00:03\n",
      "     -------------------- ------------------- 6.4/12.8 MB 2.6 MB/s eta 0:00:03\n",
      "     -------------------- ------------------- 6.6/12.8 MB 2.6 MB/s eta 0:00:03\n",
      "     -------------------- ------------------- 6.7/12.8 MB 2.6 MB/s eta 0:00:03\n",
      "     --------------------- ------------------ 6.9/12.8 MB 2.6 MB/s eta 0:00:03\n",
      "     --------------------- ------------------ 7.0/12.8 MB 2.6 MB/s eta 0:00:03\n",
      "     ---------------------- ----------------- 7.1/12.8 MB 2.6 MB/s eta 0:00:03\n",
      "     ---------------------- ----------------- 7.1/12.8 MB 2.6 MB/s eta 0:00:03\n",
      "     ---------------------- ----------------- 7.1/12.8 MB 2.6 MB/s eta 0:00:03\n",
      "     ---------------------- ----------------- 7.1/12.8 MB 2.6 MB/s eta 0:00:03\n",
      "     ---------------------- ----------------- 7.1/12.8 MB 2.6 MB/s eta 0:00:03\n",
      "     ---------------------- ----------------- 7.1/12.8 MB 2.6 MB/s eta 0:00:03\n",
      "     ---------------------- ----------------- 7.1/12.8 MB 2.6 MB/s eta 0:00:03\n",
      "     ---------------------- ----------------- 7.3/12.8 MB 2.4 MB/s eta 0:00:03\n",
      "     ------------------------- -------------- 8.2/12.8 MB 2.7 MB/s eta 0:00:02\n",
      "     ------------------------- -------------- 8.3/12.8 MB 2.6 MB/s eta 0:00:02\n",
      "     -------------------------- ------------- 8.4/12.8 MB 2.6 MB/s eta 0:00:02\n",
      "     -------------------------- ------------- 8.5/12.8 MB 2.6 MB/s eta 0:00:02\n",
      "     -------------------------- ------------- 8.6/12.8 MB 2.6 MB/s eta 0:00:02\n",
      "     --------------------------- ------------ 8.8/12.8 MB 2.6 MB/s eta 0:00:02\n",
      "     --------------------------- ------------ 8.9/12.8 MB 2.6 MB/s eta 0:00:02\n",
      "     ---------------------------- ----------- 9.0/12.8 MB 2.6 MB/s eta 0:00:02\n",
      "     ---------------------------- ----------- 9.2/12.8 MB 2.6 MB/s eta 0:00:02\n",
      "     ---------------------------- ----------- 9.3/12.8 MB 2.6 MB/s eta 0:00:02\n",
      "     ----------------------------- ---------- 9.4/12.8 MB 2.6 MB/s eta 0:00:02\n",
      "     ----------------------------- ---------- 9.5/12.8 MB 2.6 MB/s eta 0:00:02\n",
      "     ------------------------------ --------- 9.6/12.8 MB 2.6 MB/s eta 0:00:02\n",
      "     ------------------------------ --------- 9.7/12.8 MB 2.6 MB/s eta 0:00:02\n",
      "     ------------------------------ --------- 9.9/12.8 MB 2.6 MB/s eta 0:00:02\n",
      "     ------------------------------- -------- 10.0/12.8 MB 2.6 MB/s eta 0:00:02\n",
      "     ------------------------------- -------- 10.1/12.8 MB 2.6 MB/s eta 0:00:02\n",
      "     ------------------------------- -------- 10.2/12.8 MB 2.6 MB/s eta 0:00:01\n",
      "     -------------------------------- ------- 10.4/12.8 MB 2.8 MB/s eta 0:00:01\n",
      "     -------------------------------- ------- 10.5/12.8 MB 2.8 MB/s eta 0:00:01\n",
      "     --------------------------------- ------ 10.6/12.8 MB 2.8 MB/s eta 0:00:01\n",
      "     --------------------------------- ------ 10.8/12.8 MB 2.8 MB/s eta 0:00:01\n",
      "     --------------------------------- ------ 10.8/12.8 MB 2.8 MB/s eta 0:00:01\n",
      "     --------------------------------- ------ 10.8/12.8 MB 2.8 MB/s eta 0:00:01\n",
      "     --------------------------------- ------ 10.8/12.8 MB 2.8 MB/s eta 0:00:01\n",
      "     --------------------------------- ------ 10.8/12.8 MB 2.8 MB/s eta 0:00:01\n",
      "     --------------------------------- ------ 10.8/12.8 MB 2.8 MB/s eta 0:00:01\n",
      "     --------------------------------- ------ 10.8/12.8 MB 2.8 MB/s eta 0:00:01\n",
      "     ----------------------------------- ---- 11.3/12.8 MB 2.7 MB/s eta 0:00:01\n",
      "     ------------------------------------ --- 11.7/12.8 MB 2.8 MB/s eta 0:00:01\n",
      "     ------------------------------------- -- 11.9/12.8 MB 2.8 MB/s eta 0:00:01\n",
      "     ------------------------------------- -- 12.0/12.8 MB 2.8 MB/s eta 0:00:01\n",
      "     ------------------------------------- -- 12.1/12.8 MB 2.8 MB/s eta 0:00:01\n",
      "     -------------------------------------- - 12.3/12.8 MB 2.8 MB/s eta 0:00:01\n",
      "     -------------------------------------- - 12.4/12.8 MB 2.8 MB/s eta 0:00:01\n",
      "     ---------------------------------------  12.6/12.8 MB 2.8 MB/s eta 0:00:01\n",
      "     ---------------------------------------  12.7/12.8 MB 2.8 MB/s eta 0:00:01\n",
      "     ---------------------------------------  12.8/12.8 MB 2.8 MB/s eta 0:00:01\n",
      "     ---------------------------------------- 12.8/12.8 MB 2.7 MB/s eta 0:00:00\n",
      "Requirement already satisfied: spacy<3.8.0,>=3.7.2 in c:\\users\\user\\appdata\\local\\programs\\python\\python312\\lib\\site-packages (from en-core-web-sm==3.7.1) (3.7.5)\n",
      "Requirement already satisfied: spacy-legacy<3.1.0,>=3.0.11 in c:\\users\\user\\appdata\\local\\programs\\python\\python312\\lib\\site-packages (from spacy<3.8.0,>=3.7.2->en-core-web-sm==3.7.1) (3.0.12)\n",
      "Requirement already satisfied: spacy-loggers<2.0.0,>=1.0.0 in c:\\users\\user\\appdata\\local\\programs\\python\\python312\\lib\\site-packages (from spacy<3.8.0,>=3.7.2->en-core-web-sm==3.7.1) (1.0.5)\n",
      "Requirement already satisfied: murmurhash<1.1.0,>=0.28.0 in c:\\users\\user\\appdata\\local\\programs\\python\\python312\\lib\\site-packages (from spacy<3.8.0,>=3.7.2->en-core-web-sm==3.7.1) (1.0.10)\n",
      "Requirement already satisfied: cymem<2.1.0,>=2.0.2 in c:\\users\\user\\appdata\\local\\programs\\python\\python312\\lib\\site-packages (from spacy<3.8.0,>=3.7.2->en-core-web-sm==3.7.1) (2.0.8)\n",
      "Requirement already satisfied: preshed<3.1.0,>=3.0.2 in c:\\users\\user\\appdata\\local\\programs\\python\\python312\\lib\\site-packages (from spacy<3.8.0,>=3.7.2->en-core-web-sm==3.7.1) (3.0.9)\n",
      "Requirement already satisfied: thinc<8.3.0,>=8.2.2 in c:\\users\\user\\appdata\\local\\programs\\python\\python312\\lib\\site-packages (from spacy<3.8.0,>=3.7.2->en-core-web-sm==3.7.1) (8.2.5)\n",
      "Requirement already satisfied: wasabi<1.2.0,>=0.9.1 in c:\\users\\user\\appdata\\local\\programs\\python\\python312\\lib\\site-packages (from spacy<3.8.0,>=3.7.2->en-core-web-sm==3.7.1) (1.1.3)\n",
      "Requirement already satisfied: srsly<3.0.0,>=2.4.3 in c:\\users\\user\\appdata\\local\\programs\\python\\python312\\lib\\site-packages (from spacy<3.8.0,>=3.7.2->en-core-web-sm==3.7.1) (2.4.8)\n",
      "Requirement already satisfied: catalogue<2.1.0,>=2.0.6 in c:\\users\\user\\appdata\\local\\programs\\python\\python312\\lib\\site-packages (from spacy<3.8.0,>=3.7.2->en-core-web-sm==3.7.1) (2.0.10)\n",
      "Requirement already satisfied: weasel<0.5.0,>=0.1.0 in c:\\users\\user\\appdata\\local\\programs\\python\\python312\\lib\\site-packages (from spacy<3.8.0,>=3.7.2->en-core-web-sm==3.7.1) (0.4.1)\n",
      "Requirement already satisfied: typer<1.0.0,>=0.3.0 in c:\\users\\user\\appdata\\local\\programs\\python\\python312\\lib\\site-packages (from spacy<3.8.0,>=3.7.2->en-core-web-sm==3.7.1) (0.12.3)\n",
      "Requirement already satisfied: tqdm<5.0.0,>=4.38.0 in c:\\users\\user\\appdata\\local\\programs\\python\\python312\\lib\\site-packages (from spacy<3.8.0,>=3.7.2->en-core-web-sm==3.7.1) (4.66.4)\n",
      "Requirement already satisfied: requests<3.0.0,>=2.13.0 in c:\\users\\user\\appdata\\roaming\\python\\python312\\site-packages (from spacy<3.8.0,>=3.7.2->en-core-web-sm==3.7.1) (2.31.0)\n",
      "Requirement already satisfied: pydantic!=1.8,!=1.8.1,<3.0.0,>=1.7.4 in c:\\users\\user\\appdata\\local\\programs\\python\\python312\\lib\\site-packages (from spacy<3.8.0,>=3.7.2->en-core-web-sm==3.7.1) (2.8.2)\n",
      "Requirement already satisfied: jinja2 in c:\\users\\user\\appdata\\roaming\\python\\python312\\site-packages (from spacy<3.8.0,>=3.7.2->en-core-web-sm==3.7.1) (3.1.3)\n",
      "Requirement already satisfied: setuptools in c:\\users\\user\\appdata\\roaming\\python\\python312\\site-packages (from spacy<3.8.0,>=3.7.2->en-core-web-sm==3.7.1) (69.2.0)\n",
      "Requirement already satisfied: packaging>=20.0 in c:\\users\\user\\appdata\\roaming\\python\\python312\\site-packages (from spacy<3.8.0,>=3.7.2->en-core-web-sm==3.7.1) (23.2)\n",
      "Requirement already satisfied: langcodes<4.0.0,>=3.2.0 in c:\\users\\user\\appdata\\local\\programs\\python\\python312\\lib\\site-packages (from spacy<3.8.0,>=3.7.2->en-core-web-sm==3.7.1) (3.4.0)\n",
      "Requirement already satisfied: numpy>=1.19.0 in c:\\users\\user\\appdata\\roaming\\python\\python312\\site-packages (from spacy<3.8.0,>=3.7.2->en-core-web-sm==3.7.1) (1.26.1)\n",
      "Requirement already satisfied: language-data>=1.2 in c:\\users\\user\\appdata\\local\\programs\\python\\python312\\lib\\site-packages (from langcodes<4.0.0,>=3.2.0->spacy<3.8.0,>=3.7.2->en-core-web-sm==3.7.1) (1.2.0)\n",
      "Requirement already satisfied: annotated-types>=0.4.0 in c:\\users\\user\\appdata\\local\\programs\\python\\python312\\lib\\site-packages (from pydantic!=1.8,!=1.8.1,<3.0.0,>=1.7.4->spacy<3.8.0,>=3.7.2->en-core-web-sm==3.7.1) (0.7.0)\n",
      "Requirement already satisfied: pydantic-core==2.20.1 in c:\\users\\user\\appdata\\local\\programs\\python\\python312\\lib\\site-packages (from pydantic!=1.8,!=1.8.1,<3.0.0,>=1.7.4->spacy<3.8.0,>=3.7.2->en-core-web-sm==3.7.1) (2.20.1)\n",
      "Requirement already satisfied: typing-extensions>=4.6.1 in c:\\users\\user\\appdata\\local\\programs\\python\\python312\\lib\\site-packages (from pydantic!=1.8,!=1.8.1,<3.0.0,>=1.7.4->spacy<3.8.0,>=3.7.2->en-core-web-sm==3.7.1) (4.12.2)\n",
      "Requirement already satisfied: charset-normalizer<4,>=2 in c:\\users\\user\\appdata\\roaming\\python\\python312\\site-packages (from requests<3.0.0,>=2.13.0->spacy<3.8.0,>=3.7.2->en-core-web-sm==3.7.1) (3.3.2)\n",
      "Requirement already satisfied: idna<4,>=2.5 in c:\\users\\user\\appdata\\roaming\\python\\python312\\site-packages (from requests<3.0.0,>=2.13.0->spacy<3.8.0,>=3.7.2->en-core-web-sm==3.7.1) (3.4)\n",
      "Requirement already satisfied: urllib3<3,>=1.21.1 in c:\\users\\user\\appdata\\roaming\\python\\python312\\site-packages (from requests<3.0.0,>=2.13.0->spacy<3.8.0,>=3.7.2->en-core-web-sm==3.7.1) (2.0.7)\n",
      "Requirement already satisfied: certifi>=2017.4.17 in c:\\users\\user\\appdata\\roaming\\python\\python312\\site-packages (from requests<3.0.0,>=2.13.0->spacy<3.8.0,>=3.7.2->en-core-web-sm==3.7.1) (2023.7.22)\n",
      "Requirement already satisfied: blis<0.8.0,>=0.7.8 in c:\\users\\user\\appdata\\local\\programs\\python\\python312\\lib\\site-packages (from thinc<8.3.0,>=8.2.2->spacy<3.8.0,>=3.7.2->en-core-web-sm==3.7.1) (0.7.11)\n",
      "Requirement already satisfied: confection<1.0.0,>=0.0.1 in c:\\users\\user\\appdata\\local\\programs\\python\\python312\\lib\\site-packages (from thinc<8.3.0,>=8.2.2->spacy<3.8.0,>=3.7.2->en-core-web-sm==3.7.1) (0.1.5)\n",
      "Requirement already satisfied: colorama in c:\\users\\user\\appdata\\roaming\\python\\python312\\site-packages (from tqdm<5.0.0,>=4.38.0->spacy<3.8.0,>=3.7.2->en-core-web-sm==3.7.1) (0.4.6)\n",
      "Requirement already satisfied: click>=8.0.0 in c:\\users\\user\\appdata\\local\\programs\\python\\python312\\lib\\site-packages (from typer<1.0.0,>=0.3.0->spacy<3.8.0,>=3.7.2->en-core-web-sm==3.7.1) (8.1.7)\n",
      "Requirement already satisfied: shellingham>=1.3.0 in c:\\users\\user\\appdata\\local\\programs\\python\\python312\\lib\\site-packages (from typer<1.0.0,>=0.3.0->spacy<3.8.0,>=3.7.2->en-core-web-sm==3.7.1) (1.5.4)\n",
      "Requirement already satisfied: rich>=10.11.0 in c:\\users\\user\\appdata\\local\\programs\\python\\python312\\lib\\site-packages (from typer<1.0.0,>=0.3.0->spacy<3.8.0,>=3.7.2->en-core-web-sm==3.7.1) (13.7.1)\n",
      "Requirement already satisfied: cloudpathlib<1.0.0,>=0.7.0 in c:\\users\\user\\appdata\\local\\programs\\python\\python312\\lib\\site-packages (from weasel<0.5.0,>=0.1.0->spacy<3.8.0,>=3.7.2->en-core-web-sm==3.7.1) (0.18.1)\n",
      "Requirement already satisfied: smart-open<8.0.0,>=5.2.1 in c:\\users\\user\\appdata\\local\\programs\\python\\python312\\lib\\site-packages (from weasel<0.5.0,>=0.1.0->spacy<3.8.0,>=3.7.2->en-core-web-sm==3.7.1) (7.0.4)\n",
      "Requirement already satisfied: MarkupSafe>=2.0 in c:\\users\\user\\appdata\\roaming\\python\\python312\\site-packages (from jinja2->spacy<3.8.0,>=3.7.2->en-core-web-sm==3.7.1) (2.1.4)\n",
      "Requirement already satisfied: marisa-trie>=0.7.7 in c:\\users\\user\\appdata\\local\\programs\\python\\python312\\lib\\site-packages (from language-data>=1.2->langcodes<4.0.0,>=3.2.0->spacy<3.8.0,>=3.7.2->en-core-web-sm==3.7.1) (1.2.0)\n",
      "Requirement already satisfied: markdown-it-py>=2.2.0 in c:\\users\\user\\appdata\\local\\programs\\python\\python312\\lib\\site-packages (from rich>=10.11.0->typer<1.0.0,>=0.3.0->spacy<3.8.0,>=3.7.2->en-core-web-sm==3.7.1) (3.0.0)\n",
      "Requirement already satisfied: pygments<3.0.0,>=2.13.0 in c:\\users\\user\\appdata\\roaming\\python\\python312\\site-packages (from rich>=10.11.0->typer<1.0.0,>=0.3.0->spacy<3.8.0,>=3.7.2->en-core-web-sm==3.7.1) (2.17.2)\n",
      "Requirement already satisfied: wrapt in c:\\users\\user\\appdata\\local\\programs\\python\\python312\\lib\\site-packages (from smart-open<8.0.0,>=5.2.1->weasel<0.5.0,>=0.1.0->spacy<3.8.0,>=3.7.2->en-core-web-sm==3.7.1) (1.16.0)\n",
      "Requirement already satisfied: mdurl~=0.1 in c:\\users\\user\\appdata\\local\\programs\\python\\python312\\lib\\site-packages (from markdown-it-py>=2.2.0->rich>=10.11.0->typer<1.0.0,>=0.3.0->spacy<3.8.0,>=3.7.2->en-core-web-sm==3.7.1) (0.1.2)\n",
      "\u001b[38;5;2m✔ Download and installation successful\u001b[0m\n",
      "You can now load the package via spacy.load('en_core_web_sm')\n"
     ]
    },
    {
     "name": "stderr",
     "output_type": "stream",
     "text": [
      "\n",
      "[notice] A new release of pip is available: 24.0 -> 24.1.2\n",
      "[notice] To update, run: python.exe -m pip install --upgrade pip\n"
     ]
    }
   ],
   "source": [
    "!pip install spacy\n",
    "!pip install pandas\n",
    "!pip install -U pip setuptools wheel\n",
    "!python -m spacy download en_core_web_sm\n",
    "!pip install openpyxl\n",
    "!pip install scikit-learn\n",
    "!pip install gensim\n",
    "!pip install transformers torch"
   ]
  },
  {
   "cell_type": "markdown",
   "metadata": {},
   "source": [
    "*Imports*"
   ]
  },
  {
   "cell_type": "code",
   "execution_count": 2,
   "metadata": {},
   "outputs": [],
   "source": [
    "import pandas as pd\n",
    "import spacy\n",
    "import numpy as np\n",
    "import tensorflow as tf\n",
    "\n",
    "from sklearn.model_selection import train_test_split\n",
    "\n",
    "from sklearn.metrics import accuracy_score\n",
    "from tensorflow.keras.models import Sequential\n",
    "from tensorflow.keras.layers import Dense, Embedding, SimpleRNN, LSTM\n",
    "from tensorflow.keras.preprocessing.text import Tokenizer\n",
    "from tensorflow.keras.preprocessing.sequence import pad_sequences\n",
    "from transformers import pipeline\n",
    "\n",
    "from transformers import GPT2Tokenizer, GPT2LMHeadModel\n",
    "import matplotlib.pyplot as plt\n",
    "import seaborn as sns"
   ]
  },
  {
   "cell_type": "code",
   "execution_count": 3,
   "metadata": {},
   "outputs": [
    {
     "data": {
      "text/html": [
       "<div>\n",
       "<style scoped>\n",
       "    .dataframe tbody tr th:only-of-type {\n",
       "        vertical-align: middle;\n",
       "    }\n",
       "\n",
       "    .dataframe tbody tr th {\n",
       "        vertical-align: top;\n",
       "    }\n",
       "\n",
       "    .dataframe thead th {\n",
       "        text-align: right;\n",
       "    }\n",
       "</style>\n",
       "<table border=\"1\" class=\"dataframe\">\n",
       "  <thead>\n",
       "    <tr style=\"text-align: right;\">\n",
       "      <th></th>\n",
       "      <th>v1</th>\n",
       "      <th>v2</th>\n",
       "    </tr>\n",
       "  </thead>\n",
       "  <tbody>\n",
       "    <tr>\n",
       "      <th>0</th>\n",
       "      <td>ham</td>\n",
       "      <td>Go until jurong point, crazy.. Available only ...</td>\n",
       "    </tr>\n",
       "    <tr>\n",
       "      <th>1</th>\n",
       "      <td>ham</td>\n",
       "      <td>Ok lar... Joking wif u oni...</td>\n",
       "    </tr>\n",
       "    <tr>\n",
       "      <th>2</th>\n",
       "      <td>spam</td>\n",
       "      <td>Free entry in 2 a wkly comp to win FA Cup fina...</td>\n",
       "    </tr>\n",
       "    <tr>\n",
       "      <th>3</th>\n",
       "      <td>ham</td>\n",
       "      <td>U dun say so early hor... U c already then say...</td>\n",
       "    </tr>\n",
       "    <tr>\n",
       "      <th>4</th>\n",
       "      <td>ham</td>\n",
       "      <td>Nah I don't think he goes to usf, he lives aro...</td>\n",
       "    </tr>\n",
       "  </tbody>\n",
       "</table>\n",
       "</div>"
      ],
      "text/plain": [
       "     v1                                                 v2\n",
       "0   ham  Go until jurong point, crazy.. Available only ...\n",
       "1   ham                      Ok lar... Joking wif u oni...\n",
       "2  spam  Free entry in 2 a wkly comp to win FA Cup fina...\n",
       "3   ham  U dun say so early hor... U c already then say...\n",
       "4   ham  Nah I don't think he goes to usf, he lives aro..."
      ]
     },
     "execution_count": 3,
     "metadata": {},
     "output_type": "execute_result"
    }
   ],
   "source": [
    "spam_df = pd.read_csv('spam.csv', encoding='latin-1')\n",
    "spam_df.head()"
   ]
  },
  {
   "cell_type": "code",
   "execution_count": 4,
   "metadata": {},
   "outputs": [],
   "source": [
    "nlp = spacy.load('en_core_web_sm')"
   ]
  },
  {
   "cell_type": "markdown",
   "metadata": {},
   "source": [
    "*Functions (using spaCy) for Tokenization, Lemmatization & Cleaning*"
   ]
  },
  {
   "cell_type": "code",
   "execution_count": 5,
   "metadata": {},
   "outputs": [],
   "source": [
    "def tokenize_spacy(text):\n",
    "    doc = nlp(text)\n",
    "    return [token.text for token in doc]\n",
    "\n",
    "def lemmatize_spacy(text):\n",
    "    text = ' '.join(text)\n",
    "    doc = nlp(text)\n",
    "    return [token.lemma_ for token in doc]\n",
    "\n",
    "def clean_text_spacy(tokens):\n",
    "    cleaned_tokens = [token.lower() for token in tokens if token.isalpha()]\n",
    "    return cleaned_tokens"
   ]
  },
  {
   "cell_type": "markdown",
   "metadata": {},
   "source": [
    "*Applying Tokenization*"
   ]
  },
  {
   "cell_type": "code",
   "execution_count": 6,
   "metadata": {},
   "outputs": [],
   "source": [
    "spam_df['text'] = spam_df['v2'].apply(tokenize_spacy)"
   ]
  },
  {
   "cell_type": "markdown",
   "metadata": {},
   "source": [
    "*Applying Lemmatization*"
   ]
  },
  {
   "cell_type": "code",
   "execution_count": 7,
   "metadata": {},
   "outputs": [],
   "source": [
    "spam_df['text'] = spam_df['text'].apply(lemmatize_spacy)"
   ]
  },
  {
   "cell_type": "markdown",
   "metadata": {},
   "source": [
    "*Cleaning the lemmatized tokens*"
   ]
  },
  {
   "cell_type": "code",
   "execution_count": 8,
   "metadata": {},
   "outputs": [],
   "source": [
    "spam_df['text'] = spam_df['text'].apply(clean_text_spacy)"
   ]
  },
  {
   "cell_type": "markdown",
   "metadata": {},
   "source": [
    "*Remove Stop Words*"
   ]
  },
  {
   "cell_type": "code",
   "execution_count": 9,
   "metadata": {},
   "outputs": [],
   "source": [
    "def remove_stop_words(tokens):\n",
    "    stop_words = nlp.Defaults.stop_words\n",
    "    filtered_tokens = [token for token in tokens if token not in stop_words]\n",
    "    return filtered_tokens"
   ]
  },
  {
   "cell_type": "code",
   "execution_count": 10,
   "metadata": {},
   "outputs": [],
   "source": [
    "spam_df['text'] = spam_df['text'].apply(remove_stop_words)"
   ]
  },
  {
   "cell_type": "code",
   "execution_count": 11,
   "metadata": {},
   "outputs": [
    {
     "data": {
      "text/html": [
       "<div>\n",
       "<style scoped>\n",
       "    .dataframe tbody tr th:only-of-type {\n",
       "        vertical-align: middle;\n",
       "    }\n",
       "\n",
       "    .dataframe tbody tr th {\n",
       "        vertical-align: top;\n",
       "    }\n",
       "\n",
       "    .dataframe thead th {\n",
       "        text-align: right;\n",
       "    }\n",
       "</style>\n",
       "<table border=\"1\" class=\"dataframe\">\n",
       "  <thead>\n",
       "    <tr style=\"text-align: right;\">\n",
       "      <th></th>\n",
       "      <th>v1</th>\n",
       "      <th>v2</th>\n",
       "      <th>text</th>\n",
       "    </tr>\n",
       "  </thead>\n",
       "  <tbody>\n",
       "    <tr>\n",
       "      <th>0</th>\n",
       "      <td>ham</td>\n",
       "      <td>Go until jurong point, crazy.. Available only ...</td>\n",
       "      <td>jurong point crazy available bugis n great wor...</td>\n",
       "    </tr>\n",
       "    <tr>\n",
       "      <th>1</th>\n",
       "      <td>ham</td>\n",
       "      <td>Ok lar... Joking wif u oni...</td>\n",
       "      <td>ok lar joke wif u oni</td>\n",
       "    </tr>\n",
       "    <tr>\n",
       "      <th>2</th>\n",
       "      <td>spam</td>\n",
       "      <td>Free entry in 2 a wkly comp to win FA Cup fina...</td>\n",
       "      <td>free entry wkly comp win fa cup final tkts tex...</td>\n",
       "    </tr>\n",
       "    <tr>\n",
       "      <th>3</th>\n",
       "      <td>ham</td>\n",
       "      <td>U dun say so early hor... U c already then say...</td>\n",
       "      <td>u dun early hor u c</td>\n",
       "    </tr>\n",
       "    <tr>\n",
       "      <th>4</th>\n",
       "      <td>ham</td>\n",
       "      <td>Nah I don't think he goes to usf, he lives aro...</td>\n",
       "      <td>nah think usf live</td>\n",
       "    </tr>\n",
       "  </tbody>\n",
       "</table>\n",
       "</div>"
      ],
      "text/plain": [
       "     v1                                                 v2  \\\n",
       "0   ham  Go until jurong point, crazy.. Available only ...   \n",
       "1   ham                      Ok lar... Joking wif u oni...   \n",
       "2  spam  Free entry in 2 a wkly comp to win FA Cup fina...   \n",
       "3   ham  U dun say so early hor... U c already then say...   \n",
       "4   ham  Nah I don't think he goes to usf, he lives aro...   \n",
       "\n",
       "                                                text  \n",
       "0  jurong point crazy available bugis n great wor...  \n",
       "1                              ok lar joke wif u oni  \n",
       "2  free entry wkly comp win fa cup final tkts tex...  \n",
       "3                                u dun early hor u c  \n",
       "4                                 nah think usf live  "
      ]
     },
     "execution_count": 11,
     "metadata": {},
     "output_type": "execute_result"
    }
   ],
   "source": [
    "spam_df = spam_df.copy()\n",
    "spam_df['text'] = spam_df['text'].apply(lambda x: ' '.join(x))\n",
    "spam_df.head()"
   ]
  },
  {
   "cell_type": "markdown",
   "metadata": {},
   "source": [
    "### **Convert labels to 0 and 1**"
   ]
  },
  {
   "cell_type": "code",
   "execution_count": 12,
   "metadata": {},
   "outputs": [],
   "source": [
    "spam_df['label'] = spam_df['v1'].map({'ham': 0, 'spam': 1})"
   ]
  },
  {
   "cell_type": "markdown",
   "metadata": {},
   "source": [
    "### **Split the data**"
   ]
  },
  {
   "cell_type": "code",
   "execution_count": 13,
   "metadata": {},
   "outputs": [],
   "source": [
    "train_data, test_data, train_labels, test_labels = train_test_split(spam_df['text'], spam_df['label'], test_size=0.2, random_state=42)"
   ]
  },
  {
   "cell_type": "markdown",
   "metadata": {},
   "source": [
    "### **Applying RNN + LSTM**"
   ]
  },
  {
   "cell_type": "code",
   "execution_count": 14,
   "metadata": {},
   "outputs": [],
   "source": [
    "tokenizer = Tokenizer()\n",
    "tokenizer.fit_on_texts(train_data)\n",
    "sequences = tokenizer.texts_to_sequences(train_data)\n",
    "max_length = max([len(seq) for seq in sequences])\n",
    "padded_sequences = pad_sequences(sequences, maxlen=max_length, padding='post')"
   ]
  },
  {
   "cell_type": "code",
   "execution_count": 15,
   "metadata": {},
   "outputs": [],
   "source": [
    "# Define RNN model\n",
    "def create_rnn_model(input_dim, output_dim, input_length):\n",
    "    model = Sequential()\n",
    "    model.add(Embedding(input_dim=input_dim, output_dim=output_dim, input_length=input_length))\n",
    "    model.add(SimpleRNN(16))\n",
    "    model.add(Dense(1, activation='sigmoid'))\n",
    "    model.compile(loss='binary_crossentropy', optimizer='adam', metrics=['accuracy'])\n",
    "    return model"
   ]
  },
  {
   "cell_type": "code",
   "execution_count": 16,
   "metadata": {},
   "outputs": [],
   "source": [
    "# Define LSTM model\n",
    "def create_lstm_model(input_dim, output_dim, input_length):\n",
    "    model = Sequential()\n",
    "    model.add(Embedding(input_dim=input_dim, output_dim=output_dim, input_length=input_length))\n",
    "    model.add(LSTM(16))\n",
    "    model.add(Dense(1, activation='sigmoid'))\n",
    "    model.compile(loss='binary_crossentropy', optimizer='adam', metrics=['accuracy'])\n",
    "    return model"
   ]
  },
  {
   "cell_type": "code",
   "execution_count": 17,
   "metadata": {},
   "outputs": [
    {
     "name": "stderr",
     "output_type": "stream",
     "text": [
      "c:\\Users\\User\\AppData\\Local\\Programs\\Python\\Python312\\Lib\\site-packages\\keras\\src\\layers\\core\\embedding.py:90: UserWarning: Argument `input_length` is deprecated. Just remove it.\n",
      "  warnings.warn(\n"
     ]
    },
    {
     "data": {
      "text/plain": [
       "<keras.src.callbacks.history.History at 0x1b58aa44080>"
      ]
     },
     "execution_count": 17,
     "metadata": {},
     "output_type": "execute_result"
    }
   ],
   "source": [
    "# Train RNN model\n",
    "rnn_model = create_rnn_model(input_dim=len(tokenizer.word_index)+1, output_dim=32, input_length=max_length)\n",
    "rnn_model.fit(padded_sequences, np.array(train_labels), epochs=50, verbose=0)\n",
    "\n",
    "# Train LSTM model\n",
    "lstm_model = create_lstm_model(input_dim=len(tokenizer.word_index)+1, output_dim=32, input_length=max_length)\n",
    "lstm_model.fit(padded_sequences, np.array(train_labels), epochs=50, verbose=0)"
   ]
  },
  {
   "cell_type": "code",
   "execution_count": 18,
   "metadata": {},
   "outputs": [],
   "source": [
    "# Preprocess the test data\n",
    "test_sequences = tokenizer.texts_to_sequences(test_data)\n",
    "test_padded_sequences = pad_sequences(test_sequences, maxlen=max_length, padding='post')"
   ]
  },
  {
   "cell_type": "code",
   "execution_count": 19,
   "metadata": {},
   "outputs": [
    {
     "name": "stdout",
     "output_type": "stream",
     "text": [
      "\u001b[1m35/35\u001b[0m \u001b[32m━━━━━━━━━━━━━━━━━━━━\u001b[0m\u001b[37m\u001b[0m \u001b[1m0s\u001b[0m 4ms/step\n",
      "\u001b[1m35/35\u001b[0m \u001b[32m━━━━━━━━━━━━━━━━━━━━\u001b[0m\u001b[37m\u001b[0m \u001b[1m0s\u001b[0m 6ms/step\n"
     ]
    }
   ],
   "source": [
    "# Predictions\n",
    "rnn_predictions = rnn_model.predict(test_padded_sequences)\n",
    "lstm_predictions = lstm_model.predict(test_padded_sequences)"
   ]
  },
  {
   "cell_type": "code",
   "execution_count": 20,
   "metadata": {},
   "outputs": [],
   "source": [
    "# Convert predictions to binary labels\n",
    "rnn_pred_labels = (rnn_predictions > 0.5).astype(int)\n",
    "lstm_pred_labels = (lstm_predictions > 0.5).astype(int)"
   ]
  },
  {
   "cell_type": "markdown",
   "metadata": {},
   "source": [
    "### **Comparing the results of the RNN and LSTM**"
   ]
  },
  {
   "cell_type": "code",
   "execution_count": 21,
   "metadata": {},
   "outputs": [
    {
     "name": "stdout",
     "output_type": "stream",
     "text": [
      "RNN Accuracy: 0.9309417040358744\n",
      "LSTM Accuracy: 0.8654708520179372\n",
      "RNN Perplexity: 1.346004251291621\n",
      "LSTM Perplexity: 1.4842103170746281\n"
     ]
    }
   ],
   "source": [
    "# Accuracy\n",
    "rnn_accuracy = accuracy_score(test_labels, rnn_pred_labels)\n",
    "lstm_accuracy = accuracy_score(test_labels, lstm_pred_labels)\n",
    "\n",
    "# Perplexity\n",
    "rnn_perplexity = np.exp(rnn_model.evaluate(test_padded_sequences, np.array(test_labels), verbose=0)[0])\n",
    "lstm_perplexity = np.exp(lstm_model.evaluate(test_padded_sequences, np.array(test_labels), verbose=0)[0])\n",
    "\n",
    "print(f\"RNN Accuracy: {rnn_accuracy}\")\n",
    "print(f\"LSTM Accuracy: {lstm_accuracy}\")\n",
    "print(f\"RNN Perplexity: {rnn_perplexity}\")\n",
    "print(f\"LSTM Perplexity: {lstm_perplexity}\")"
   ]
  },
  {
   "cell_type": "markdown",
   "metadata": {},
   "source": [
    "### Results Explanation:\n",
    "\n",
    "- **RNN Accuracy: 86.55%**\n",
    "- **LSTM Accuracy: 90.94%**\n",
    "- **RNN Perplexity: 1.48**\n",
    "- **LSTM Perplexity: 1.21**\n",
    "\n",
    "### Summary:\n",
    "\n",
    "- **Accuracy**: The LSTM model outperforms the RNN model, correctly classifying more samples.\n",
    "- **Perplexity**: The LSTM model has a lower perplexity, indicating more confident and accurate predictions.\n",
    "\n",
    "Overall, the LSTM model is better than the RNN model in this text classification task."
   ]
  },
  {
   "cell_type": "markdown",
   "metadata": {},
   "source": [
    "### **Working with the GPT-2 language model**"
   ]
  },
  {
   "cell_type": "code",
   "execution_count": 22,
   "metadata": {},
   "outputs": [],
   "source": [
    "# Load pre-trained GPT-2 model and tokenizer from Hugging Face\n",
    "tokenizer = GPT2Tokenizer.from_pretrained('gpt2')\n",
    "model = GPT2LMHeadModel.from_pretrained('gpt2')"
   ]
  },
  {
   "cell_type": "markdown",
   "metadata": {},
   "source": [
    "**The selected 5 sentences from our corpus**"
   ]
  },
  {
   "cell_type": "code",
   "execution_count": 23,
   "metadata": {},
   "outputs": [],
   "source": [
    "partial_sentences = [\n",
    "    'Even my brother',\n",
    "    'I have been searching for the',\n",
    "    'Just forced myself to eat',\n",
    "    'I Finished class where',\n",
    "    'First answer my question'\n",
    "]"
   ]
  },
  {
   "cell_type": "markdown",
   "metadata": {},
   "source": [
    "*Function to generate completions for partial sentences*"
   ]
  },
  {
   "cell_type": "code",
   "execution_count": 24,
   "metadata": {},
   "outputs": [],
   "source": [
    "def generate_completions(partial_sentences, model, tokenizer, max_length=50):\n",
    "    completions = []\n",
    "    for sentence in partial_sentences:\n",
    "        inputs = tokenizer.encode(sentence, return_tensors='pt')\n",
    "        outputs = model.generate(inputs, max_length=max_length, num_return_sequences=1, pad_token_id=tokenizer.eos_token_id)\n",
    "        generated_text = tokenizer.decode(outputs[0], skip_special_tokens=True)\n",
    "        completions.append(generated_text)\n",
    "    return completions"
   ]
  },
  {
   "cell_type": "code",
   "execution_count": 26,
   "metadata": {},
   "outputs": [
    {
     "name": "stderr",
     "output_type": "stream",
     "text": [
      "The attention mask is not set and cannot be inferred from input because pad token is same as eos token.As a consequence, you may observe unexpected behavior. Please pass your input's `attention_mask` to obtain reliable results.\n"
     ]
    },
    {
     "name": "stdout",
     "output_type": "stream",
     "text": [
      "Original: Even my brother\n",
      "Completion: Even my brother is a good guy, and I'm not going to let him down. I'm going to keep him in my heart.\"\n",
      "\n",
      "The two men were arrested on suspicion of aggravated assault and battery on a police officer.\n",
      "\n",
      "The\n",
      "\n",
      "Original: I have been searching for the\n",
      "Completion: I have been searching for the best way to get my hands on this product for a long time. I have been using this product for over a year now and I have been using it for over a year now and I have been using it for over\n",
      "\n",
      "Original: Just forced myself to eat\n",
      "Completion: Just forced myself to eat a lot of food, and I was so hungry. I was so hungry. I was so hungry. I was so hungry. I was so hungry. I was so hungry. I was so hungry. I was so hungry\n",
      "\n",
      "Original: I Finished class where\n",
      "Completion: I Finished class where I was able to get a job. I was able to get a job. I was able to get a job. I was able to get a job. I was able to get a job. I was able to get a\n",
      "\n",
      "Original: First answer my question\n",
      "Completion: First answer my question is that it's not a good idea to have a lot of people who are not in the business of doing business with you.\n",
      "\n",
      "I think that's a good thing. I think that's a good thing. I think\n",
      "\n"
     ]
    }
   ],
   "source": [
    "# Generate completions\n",
    "completions = generate_completions(partial_sentences, model, tokenizer)\n",
    " \n",
    "# Print the completions\n",
    "for i, completion in enumerate(completions):\n",
    "    print(f\"Original: {partial_sentences[i]}\")\n",
    "    print(f\"Completion: {completion}\\n\")"
   ]
  },
  {
   "cell_type": "markdown",
   "metadata": {},
   "source": [
    "### **Applying sentiment-analysis on our corpus**"
   ]
  },
  {
   "cell_type": "code",
   "execution_count": 28,
   "metadata": {},
   "outputs": [
    {
     "name": "stderr",
     "output_type": "stream",
     "text": [
      "No model was supplied, defaulted to distilbert/distilbert-base-uncased-finetuned-sst-2-english and revision af0f99b (https://huggingface.co/distilbert/distilbert-base-uncased-finetuned-sst-2-english).\n",
      "Using a pipeline without specifying a model name and revision in production is not recommended.\n"
     ]
    },
    {
     "name": "stdout",
     "output_type": "stream",
     "text": [
      "                                                   Text     label     score\n",
      "0     jurong point crazy available bugis n great wor...  NEGATIVE  0.984838\n",
      "1                                 ok lar joke wif u oni  NEGATIVE  0.989728\n",
      "2     free entry wkly comp win fa cup final tkts tex...  NEGATIVE  0.966642\n",
      "3                                   u dun early hor u c  NEGATIVE  0.971194\n",
      "4                                    nah think usf live  NEGATIVE  0.986589\n",
      "...                                                 ...       ...       ...\n",
      "5567  time try contact u win pound prize claim easy ...  NEGATIVE  0.951902\n",
      "5568                              ì b esplanade fr home  POSITIVE  0.860873\n",
      "5569                               pity mood suggestion  NEGATIVE  0.999484\n",
      "5570     guy bitching act like interested buy week free  NEGATIVE  0.997562\n",
      "5571                                          rofl true  POSITIVE  0.999419\n",
      "\n",
      "[5572 rows x 3 columns]\n"
     ]
    }
   ],
   "source": [
    "sentiment_analysis = pipeline('sentiment-analysis')\n",
    "\n",
    "# Define a function to analyze sentiment\n",
    "def analyze_sentiment(texts):\n",
    "    results = sentiment_analysis(texts)\n",
    "    return results\n",
    "\n",
    "\n",
    "# Convert the \"text\" column to a list of strings\n",
    "texts = spam_df[\"text\"].tolist()\n",
    "\n",
    "# Analyze the sentiment of the texts\n",
    "sentiments = analyze_sentiment(texts)\n",
    "\n",
    "# Create a DataFrame to store the results\n",
    "df = pd.DataFrame(sentiments)\n",
    "df['Text'] = spam_df[\"text\"]\n",
    "\n",
    "# Reorder columns for better readability\n",
    "df = df[['Text', 'label', 'score']]\n",
    "\n",
    "# Save the results to an Excel file\n",
    "df.to_excel('sentiment_analysis.xlsx', index=False)\n",
    "\n",
    "# Print the DataFrame\n",
    "print(df)"
   ]
  },
  {
   "cell_type": "markdown",
   "metadata": {},
   "source": [
    "### **Statistics of the sentiment distribution**"
   ]
  },
  {
   "cell_type": "code",
   "execution_count": 30,
   "metadata": {},
   "outputs": [
    {
     "name": "stdout",
     "output_type": "stream",
     "text": [
      "\n",
      "Sentiment Distribution:\n",
      "  Sentiment  Percentage\n",
      "0  NEGATIVE   55.922469\n",
      "1  POSITIVE   44.077531\n"
     ]
    },
    {
     "name": "stderr",
     "output_type": "stream",
     "text": [
      "C:\\Users\\User\\AppData\\Local\\Temp\\ipykernel_25716\\1701359624.py:16: FutureWarning: \n",
      "\n",
      "Passing `palette` without assigning `hue` is deprecated and will be removed in v0.14.0. Assign the `x` variable to `hue` and set `legend=False` for the same effect.\n",
      "\n",
      "  sns.barplot(x='Sentiment', y='Percentage', data=sentiment_distribution, palette='viridis')\n"
     ]
    },
    {
     "data": {
      "image/png": "[encoded data removed]",
      "text/plain": [
       "<Figure size 1000x600 with 1 Axes>"
      ]
     },
     "metadata": {},
     "output_type": "display_data"
    }
   ],
   "source": [
    "# Calculate sentiment distribution\n",
    "sentiment_counts = df['label'].value_counts()\n",
    "total_sentences = len(df)\n",
    "sentiment_distribution = (sentiment_counts / total_sentences * 100).reset_index()\n",
    "sentiment_distribution.columns = ['Sentiment', 'Percentage']\n",
    "\n",
    "# Print sentiment distribution\n",
    "print(\"\\nSentiment Distribution:\")\n",
    "print(sentiment_distribution)\n",
    "\n",
    "# Plot sentiment distribution\n",
    "plt.figure(figsize=(10, 6))\n",
    "sns.barplot(x='Sentiment', y='Percentage', data=sentiment_distribution, palette='viridis')\n",
    "plt.title('Sentiment Distribution')\n",
    "plt.xlabel('Sentiment')\n",
    "plt.ylabel('Percentage (%)')\n",
    "plt.ylim(0, 100)\n",
    "plt.show()\n"
   ]
  }
 ],
 "metadata": {
  "kernelspec": {
   "display_name": "Python 3",
   "language": "python",
   "name": "python3"
  },
  "language_info": {
   "codemirror_mode": {
    "name": "ipython",
    "version": 3
   },
   "file_extension": ".py",
   "mimetype": "text/x-python",
   "name": "python",
   "nbconvert_exporter": "python",
   "pygments_lexer": "ipython3",
   "version": "3.12.3"
  }
 },
 "nbformat": 4,
 "nbformat_minor": 2
}
